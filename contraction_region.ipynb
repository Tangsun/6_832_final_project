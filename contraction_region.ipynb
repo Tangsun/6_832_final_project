{
 "cells": [
  {
   "cell_type": "markdown",
   "source": "# Region of Contraction Estimation",
   "metadata": {
    "tags": [],
    "cell_id": "92295e33-f204-4704-a131-8f23a88d4e54",
    "deepnote_cell_type": "markdown",
    "deepnote_cell_height": 82
   }
  },
  {
   "cell_type": "code",
   "metadata": {
    "tags": [],
    "deepnote_to_be_reexecuted": false,
    "source_hash": "a8c14ec5",
    "execution_start": 1652557746105,
    "execution_millis": 893,
    "cell_id": "00001-61a2ab78-1f14-4400-9c16-4d3c0b86763b",
    "deepnote_cell_type": "code",
    "deepnote_cell_height": 351
   },
   "source": "# python libraries\nimport numpy as np\nfrom matplotlib import pyplot as plt\nfrom scipy.integrate import solve_ivp\n\n# pydrake imports\nfrom pydrake.all import (MathematicalProgram, Variables,\n                         Solve, RealContinuousLyapunovEquation)\nimport pydrake.symbolic as sym\n\n# underactuated imports\nfrom underactuated import plot_2d_phase_portrait\n\n# increase default size matplotlib figures\nfrom matplotlib import rcParams\nrcParams['figure.figsize'] = (6, 6)",
   "outputs": [],
   "execution_count": null
  },
  {
   "cell_type": "code",
   "metadata": {
    "tags": [],
    "deepnote_to_be_reexecuted": false,
    "source_hash": "3ac52545",
    "execution_start": 1652557748453,
    "execution_millis": 150,
    "cell_id": "00002-afa00fd3-ce58-47ca-84a7-5caf7aea8e46",
    "deepnote_cell_type": "code",
    "deepnote_cell_height": 165.6875
   },
   "source": "%env MOSEKLM_LICENSE_FILE = \"mosek.lic\"\nfrom pydrake.solvers.mosek import MosekSolver\nfrom pydrake.solvers.snopt import SnoptSolver\nfrom pydrake.solvers.ipopt import IpoptSolver",
   "outputs": [
    {
     "name": "stdout",
     "text": "env: MOSEKLM_LICENSE_FILE=\"mosek.lic\"\n",
     "output_type": "stream"
    }
   ],
   "execution_count": null
  },
  {
   "cell_type": "code",
   "source": "def van_der_pol_ball():\n    prog = MathematicalProgram()\n    x = prog.NewIndeterminates(2, \"x\")\n    f = [- x[1], x[0] + (x[0]**2 - 1) * x[1]]\n\n    M_poly_deg = 4\n    M_11 = prog.NewFreePolynomial(Variables(x), M_poly_deg).ToExpression()\n    M_12 = prog.NewFreePolynomial(Variables(x), M_poly_deg).ToExpression()\n    M_22 = prog.NewFreePolynomial(Variables(x), M_poly_deg).ToExpression()\n\n    M = np.array([[M_11, M_12], [M_12, M_22]])\n    M_11_dot = M_11.Jacobian(x).dot(f)\n    M_12_dot = M_12.Jacobian(x).dot(f)\n    M_22_dot = M_22.Jacobian(x).dot(f)\n    M_dot = np.array([[M_11_dot, M_12_dot], [M_12_dot, M_22_dot]])\n\n    dfdx = [[0, -1], [1 + 2*x[0]*x[1], x[0]**2 - 1]]\n\n    # lam = prog.NewContinuousVariables(1, \"lam\")[0]\n    lam = 0\n    R = (M.dot(dfdx)).transpose() + M.dot(dfdx) + M_dot + 2*lam*M\n\n    y = prog.NewIndeterminates(2, \"y\")\n    rho = prog.NewContinuousVariables(1, \"rho\")[0]\n    # l = prog.NewFreePolynomial(Variables(x), 2).ToExpression()\n\n    M_rho = M + (x.dot(x) - rho)*np.eye(2)\n    P_M = y.dot(M_rho).dot(y)\n    R_rho = -R + (x.dot(x) - rho)*np.eye(2)\n    P_R = y.dot(R_rho).dot(y)\n\n    eps = 1e-5\n    \n    prog.AddSosConstraint(P_M - eps*y.dot(y))\n    prog.AddSosConstraint(P_R - eps*y.dot(y))\n    prog.AddConstraint(rho >= 0)\n\n    # print(rho)\n    prog.AddLinearCost(-rho)\n\n    # print(prog)\n    solver = MosekSolver()\n    result = solver.Solve(prog)\n    if result.is_success:\n        # print(\"success\")\n        # print(result)\n        print(result.GetSolution(M))\n        # print(result.GetSolution(R))\n        return result.GetSolution(M), result.GetSolution(rho)\n    else:\n        print(\"Could not find a contraction metric\")",
   "metadata": {
    "cell_id": "01422a0b5fc54eb6b889beba82f10cb8",
    "tags": [],
    "deepnote_to_be_reexecuted": false,
    "source_hash": "f00d16fd",
    "execution_start": 1652558094522,
    "execution_millis": 1,
    "owner_user_id": "b247e315-e12e-4695-a964-f32bdde5a134",
    "deepnote_cell_type": "code",
    "deepnote_cell_height": 981
   },
   "outputs": [],
   "execution_count": null
  },
  {
   "cell_type": "code",
   "source": "van_der_pol_ball()",
   "metadata": {
    "cell_id": "3a3f56e40d1549ce93d47ad3f855122a",
    "tags": [],
    "deepnote_to_be_reexecuted": false,
    "source_hash": "e2bbeec0",
    "execution_start": 1652558095996,
    "execution_millis": 7,
    "deepnote_cell_type": "code",
    "deepnote_cell_height": 323.453125,
    "deepnote_output_heights": [
     251.53125,
     117.171875
    ]
   },
   "outputs": [
    {
     "name": "stdout",
     "text": "[[<Expression \"(1.4978995949598728 - 8.9921299181879e-19 * x(0) + 6.0532791304402332e-18 * x(1) + 0.012671789600241666 * (x(0) * x(1)) - 5.7602710143115141e-19 * (x(0) * pow(x(1), 2)) - 2.1343407336767106e-06 * (x(0) * pow(x(1), 3)) + 6.162610656806576e-21 * (pow(x(0), 2) * x(1)) - 0.0024275139625661792 * (pow(x(0), 2) * pow(x(1), 2)) - 0.9992434147794248 * pow(x(0), 2) - 1.3594501208445591e-18 * pow(x(0), 3) + 0.44873043764376391 * pow(x(0), 4) - 0.18116751300020276 * pow(x(1), 2) + 7.1490592623836078e-21 * pow(x(1), 3) + 3.2488378831303897e-06 * pow(x(1), 4))\">\n  <Expression \"(-0.4044869214327671 - 2.4436342358248764e-18 * x(0) + 4.5466420155699369e-18 * x(1) + 0.057109978759730229 * (x(0) * x(1)) - 2.8893549724847252e-20 * (x(0) * pow(x(1), 2)) - 4.0743767286253312e-06 * (x(0) * pow(x(1), 3)) - 1.6027490047084984e-20 * (pow(x(0), 2) * x(1)) + 1.611109631924947e-05 * (pow(x(0), 2) * pow(x(1), 2)) + 3.2322678834905096e-06 * (pow(x(0), 3) * x(1)) + 0.44878123817702426 * pow(x(0), 2) + 4.8671083963362846e-23 * pow(x(0), 3) - 0.0018965550026557078 * pow(x(1), 2) + 4.7934926493332218e-21 * pow(x(1), 3))\">]\n [<Expression \"(-0.4044869214327671 - 2.4436342358248764e-18 * x(0) + 4.5466420155699369e-18 * x(1) + 0.057109978759730229 * (x(0) * x(1)) - 2.8893549724847252e-20 * (x(0) * pow(x(1), 2)) - 4.0743767286253312e-06 * (x(0) * pow(x(1), 3)) - 1.6027490047084984e-20 * (pow(x(0), 2) * x(1)) + 1.611109631924947e-05 * (pow(x(0), 2) * pow(x(1), 2)) + 3.2322678834905096e-06 * (pow(x(0), 3) * x(1)) + 0.44878123817702426 * pow(x(0), 2) + 4.8671083963362846e-23 * pow(x(0), 3) - 0.0018965550026557078 * pow(x(1), 2) + 4.7934926493332218e-21 * pow(x(1), 3))\">\n  <Expression \"(1.0374059154990369 - 6.9576190414060908e-18 * x(0) + 1.1075107633408678e-18 * x(1) - 0.027707959491855769 * (x(0) * x(1)) - 4.1151856420033889e-21 * (x(0) * pow(x(1), 2)) + 1.6733171439719948e-07 * (x(0) * pow(x(1), 3)) - 1.2646238326982424e-19 * (pow(x(0), 2) * x(1)) + 4.8906562287486965e-07 * (pow(x(0), 2) * pow(x(1), 2)) + 5.2216566229318437e-07 * (pow(x(0), 3) * x(1)) - 0.23838807541714507 * pow(x(0), 2) + 3.927553546407703e-20 * pow(x(0), 3) + 6.3862397840880813e-07 * pow(x(0), 4) - 0.00024805427539819063 * pow(x(1), 2) - 3.8892057722143545e-23 * pow(x(1), 3))\">]]\n",
     "output_type": "stream"
    },
    {
     "output_type": "execute_result",
     "execution_count": 26,
     "data": {
      "text/plain": "(array([[<Expression \"(1.4978995949598728 - 8.9921299181879e-19 * x(0) + 6.0532791304402332e-18 * x(1) + 0.012671789600241666 * (x(0) * x(1)) - 5.7602710143115141e-19 * (x(0) * pow(x(1), 2)) - 2.1343407336767106e-06 * (x(0) * pow(x(1), 3)) + 6.162610656806576e-21 * (pow(x(0), 2) * x(1)) - 0.0024275139625661792 * (pow(x(0), 2) * pow(x(1), 2)) - 0.9992434147794248 * pow(x(0), 2) - 1.3594501208445591e-18 * pow(x(0), 3) + 0.44873043764376391 * pow(x(0), 4) - 0.18116751300020276 * pow(x(1), 2) + 7.1490592623836078e-21 * pow(x(1), 3) + 3.2488378831303897e-06 * pow(x(1), 4))\">,\n         <Expression \"(-0.4044869214327671 - 2.4436342358248764e-18 * x(0) + 4.5466420155699369e-18 * x(1) + 0.057109978759730229 * (x(0) * x(1)) - 2.8893549724847252e-20 * (x(0) * pow(x(1), 2)) - 4.0743767286253312e-06 * (x(0) * pow(x(1), 3)) - 1.6027490047084984e-20 * (pow(x(0), 2) * x(1)) + 1.611109631924947e-05 * (pow(x(0), 2) * pow(x(1), 2)) + 3.2322678834905096e-06 * (pow(x(0), 3) * x(1)) + 0.44878123817702426 * pow(x(0), 2) + 4.8671083963362846e-23 * pow(x(0), 3) - 0.0018965550026557078 * pow(x(1), 2) + 4.7934926493332218e-21 * pow(x(1), 3))\">],\n        [<Expression \"(-0.4044869214327671 - 2.4436342358248764e-18 * x(0) + 4.5466420155699369e-18 * x(1) + 0.057109978759730229 * (x(0) * x(1)) - 2.8893549724847252e-20 * (x(0) * pow(x(1), 2)) - 4.0743767286253312e-06 * (x(0) * pow(x(1), 3)) - 1.6027490047084984e-20 * (pow(x(0), 2) * x(1)) + 1.611109631924947e-05 * (pow(x(0), 2) * pow(x(1), 2)) + 3.2322678834905096e-06 * (pow(x(0), 3) * x(1)) + 0.44878123817702426 * pow(x(0), 2) + 4.8671083963362846e-23 * pow(x(0), 3) - 0.0018965550026557078 * pow(x(1), 2) + 4.7934926493332218e-21 * pow(x(1), 3))\">,\n         <Expression \"(1.0374059154990369 - 6.9576190414060908e-18 * x(0) + 1.1075107633408678e-18 * x(1) - 0.027707959491855769 * (x(0) * x(1)) - 4.1151856420033889e-21 * (x(0) * pow(x(1), 2)) + 1.6733171439719948e-07 * (x(0) * pow(x(1), 3)) - 1.2646238326982424e-19 * (pow(x(0), 2) * x(1)) + 4.8906562287486965e-07 * (pow(x(0), 2) * pow(x(1), 2)) + 5.2216566229318437e-07 * (pow(x(0), 3) * x(1)) - 0.23838807541714507 * pow(x(0), 2) + 3.927553546407703e-20 * pow(x(0), 3) + 6.3862397840880813e-07 * pow(x(0), 4) - 0.00024805427539819063 * pow(x(1), 2) - 3.8892057722143545e-23 * pow(x(1), 3))\">]],\n       dtype=object),\n 0.8019716687449234)"
     },
     "metadata": {}
    }
   ],
   "execution_count": null
  },
  {
   "cell_type": "markdown",
   "source": "<a style='text-decoration:none;line-height:16px;display:flex;color:#5B5B62;padding:10px;justify-content:end;' href='https://deepnote.com?utm_source=created-in-deepnote-cell&projectId=21c3e526-6092-407b-92b0-f6897737c93c' target=\"_blank\">\n<img alt='Created in deepnote.com' style='display:inline;max-height:16px;margin:0px;margin-right:7.5px;' src='data:image/svg+xml;base64,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' > </img>\nCreated in <span style='font-weight:600;margin-left:4px;'>Deepnote</span></a>",
   "metadata": {
    "tags": [],
    "created_in_deepnote_cell": true,
    "deepnote_cell_type": "markdown"
   }
  }
 ],
 "nbformat": 4,
 "nbformat_minor": 2,
 "metadata": {
  "orig_nbformat": 2,
  "deepnote": {},
  "deepnote_notebook_id": "47819090-7b64-4b04-a42c-d43f18b2f153",
  "deepnote_execution_queue": []
 }
}